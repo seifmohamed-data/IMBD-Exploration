{
 "cells": [
  {
   "cell_type": "markdown",
   "metadata": {},
   "source": [
    "> **Tip**: Welcome to the Investigate a Dataset project! You will find tips in quoted sections like this to help organize your approach to your investigation. Before submitting your project, it will be a good idea to go back through your report and remove these sections to make the presentation of your work as tidy as possible. First things first, you might want to double-click this Markdown cell and change the title so that it reflects your dataset and investigation.\n",
    "\n",
    "# Project: Investigate TMDb Movie Dataset\n",
    "\n",
    "## Table of Contents\n",
    "<ul>\n",
    "<li><a href=\"#intro\">Introduction</a></li>\n",
    "<li><a href=\"#wrangling\">Data Wrangling</a></li>\n",
    "<li><a href=\"#eda\">Exploratory Data Analysis</a></li>\n",
    "<li><a href=\"#conclusions\">Conclusions</a></li>\n",
    "</ul>"
   ]
  },
  {
   "cell_type": "markdown",
   "metadata": {},
   "source": [
    "### Dataset\n",
    "I choose the TMDb movie data set for data analysis. \n",
    "\n",
    "This data set contains information about 10,000 movies collected from The Movie Database (TMDb), including user ratings and revenue.I would like to find other intresting patterns in the dataset.\n",
    "### Contain:\n",
    "\n",
    "   - Total Rows = 10866\n",
    "   - Total Columns = 21\n",
    "   - After Seeing the dataset we can say that some columns is contain null values\n",
    "\n",
    "\n",
    "\n",
    "### Questions\n",
    "1. What is The Highest and Lowest Movie Ever in Terms of Profit ?\n",
    "2. What is All Times Top 10 Movies Which Earn The Highest Profit?\n",
    "3. Which Length Most Liked by The Audiences According to their Popularity?\n",
    "4. What is The Top 20 Genres With Higher Number Of Release?\n",
    "5. What are The Top Profitable Production Companies?\n",
    "6. What Kinds of Properties are Associated with Movies that have High Revenue?\n",
    "7. How Does The Revenue And Popularity affects Budget ?"
   ]
  },
  {
   "cell_type": "code",
   "execution_count": 1,
   "metadata": {},
   "outputs": [],
   "source": [
    "# Use this cell to set up import statements for all of the packages that you\n",
    "#   plan to use.\n",
    "import pandas as pd\n",
    "import numpy as np\n",
    "import matplotlib.pyplot as plt\n",
    "import seaborn as sns\n",
    "\n",
    "%matplotlib inline\n",
    "# Remember to include a 'magic word' so that your visualizations are plotted\n",
    "#   inline with the notebook. See this page for more:\n",
    "#   http://ipython.readthedocs.io/en/stable/interactive/magics.html\n"
   ]
  },
  {
   "cell_type": "markdown",
   "metadata": {},
   "source": [
    "# <a id='wrangling'></a>\n",
    "## Data Wrangling\n",
    "\n",
    "> **Tip**: In this section of the report, you will load in the data, check for cleanliness, and then trim and clean your dataset for analysis. Make sure that you document your steps carefully and justify your cleaning decisions.\n",
    "you should include a description of the columns\n",
    "### General Properties"
   ]
  },
  {
   "cell_type": "code",
   "execution_count": 2,
   "metadata": {},
   "outputs": [
    {
     "data": {
      "text/html": [
       "<div>\n",
       "<style scoped>\n",
       "    .dataframe tbody tr th:only-of-type {\n",
       "        vertical-align: middle;\n",
       "    }\n",
       "\n",
       "    .dataframe tbody tr th {\n",
       "        vertical-align: top;\n",
       "    }\n",
       "\n",
       "    .dataframe thead th {\n",
       "        text-align: right;\n",
       "    }\n",
       "</style>\n",
       "<table border=\"1\" class=\"dataframe\">\n",
       "  <thead>\n",
       "    <tr style=\"text-align: right;\">\n",
       "      <th></th>\n",
       "      <th>id</th>\n",
       "      <th>imdb_id</th>\n",
       "      <th>popularity</th>\n",
       "      <th>budget</th>\n",
       "      <th>revenue</th>\n",
       "      <th>original_title</th>\n",
       "      <th>cast</th>\n",
       "      <th>homepage</th>\n",
       "      <th>director</th>\n",
       "      <th>tagline</th>\n",
       "      <th>...</th>\n",
       "      <th>overview</th>\n",
       "      <th>runtime</th>\n",
       "      <th>genres</th>\n",
       "      <th>production_companies</th>\n",
       "      <th>release_date</th>\n",
       "      <th>vote_count</th>\n",
       "      <th>vote_average</th>\n",
       "      <th>release_year</th>\n",
       "      <th>budget_adj</th>\n",
       "      <th>revenue_adj</th>\n",
       "    </tr>\n",
       "  </thead>\n",
       "  <tbody>\n",
       "    <tr>\n",
       "      <th>0</th>\n",
       "      <td>135397</td>\n",
       "      <td>tt0369610</td>\n",
       "      <td>32.985763</td>\n",
       "      <td>150000000</td>\n",
       "      <td>1513528810</td>\n",
       "      <td>Jurassic World</td>\n",
       "      <td>Chris Pratt|Bryce Dallas Howard|Irrfan Khan|Vi...</td>\n",
       "      <td>http://www.jurassicworld.com/</td>\n",
       "      <td>Colin Trevorrow</td>\n",
       "      <td>The park is open.</td>\n",
       "      <td>...</td>\n",
       "      <td>Twenty-two years after the events of Jurassic ...</td>\n",
       "      <td>124</td>\n",
       "      <td>Action|Adventure|Science Fiction|Thriller</td>\n",
       "      <td>Universal Studios|Amblin Entertainment|Legenda...</td>\n",
       "      <td>6/9/15</td>\n",
       "      <td>5562</td>\n",
       "      <td>6.5</td>\n",
       "      <td>2015</td>\n",
       "      <td>1.379999e+08</td>\n",
       "      <td>1.392446e+09</td>\n",
       "    </tr>\n",
       "    <tr>\n",
       "      <th>1</th>\n",
       "      <td>76341</td>\n",
       "      <td>tt1392190</td>\n",
       "      <td>28.419936</td>\n",
       "      <td>150000000</td>\n",
       "      <td>378436354</td>\n",
       "      <td>Mad Max: Fury Road</td>\n",
       "      <td>Tom Hardy|Charlize Theron|Hugh Keays-Byrne|Nic...</td>\n",
       "      <td>http://www.madmaxmovie.com/</td>\n",
       "      <td>George Miller</td>\n",
       "      <td>What a Lovely Day.</td>\n",
       "      <td>...</td>\n",
       "      <td>An apocalyptic story set in the furthest reach...</td>\n",
       "      <td>120</td>\n",
       "      <td>Action|Adventure|Science Fiction|Thriller</td>\n",
       "      <td>Village Roadshow Pictures|Kennedy Miller Produ...</td>\n",
       "      <td>5/13/15</td>\n",
       "      <td>6185</td>\n",
       "      <td>7.1</td>\n",
       "      <td>2015</td>\n",
       "      <td>1.379999e+08</td>\n",
       "      <td>3.481613e+08</td>\n",
       "    </tr>\n",
       "    <tr>\n",
       "      <th>2</th>\n",
       "      <td>262500</td>\n",
       "      <td>tt2908446</td>\n",
       "      <td>13.112507</td>\n",
       "      <td>110000000</td>\n",
       "      <td>295238201</td>\n",
       "      <td>Insurgent</td>\n",
       "      <td>Shailene Woodley|Theo James|Kate Winslet|Ansel...</td>\n",
       "      <td>http://www.thedivergentseries.movie/#insurgent</td>\n",
       "      <td>Robert Schwentke</td>\n",
       "      <td>One Choice Can Destroy You</td>\n",
       "      <td>...</td>\n",
       "      <td>Beatrice Prior must confront her inner demons ...</td>\n",
       "      <td>119</td>\n",
       "      <td>Adventure|Science Fiction|Thriller</td>\n",
       "      <td>Summit Entertainment|Mandeville Films|Red Wago...</td>\n",
       "      <td>3/18/15</td>\n",
       "      <td>2480</td>\n",
       "      <td>6.3</td>\n",
       "      <td>2015</td>\n",
       "      <td>1.012000e+08</td>\n",
       "      <td>2.716190e+08</td>\n",
       "    </tr>\n",
       "    <tr>\n",
       "      <th>3</th>\n",
       "      <td>140607</td>\n",
       "      <td>tt2488496</td>\n",
       "      <td>11.173104</td>\n",
       "      <td>200000000</td>\n",
       "      <td>2068178225</td>\n",
       "      <td>Star Wars: The Force Awakens</td>\n",
       "      <td>Harrison Ford|Mark Hamill|Carrie Fisher|Adam D...</td>\n",
       "      <td>http://www.starwars.com/films/star-wars-episod...</td>\n",
       "      <td>J.J. Abrams</td>\n",
       "      <td>Every generation has a story.</td>\n",
       "      <td>...</td>\n",
       "      <td>Thirty years after defeating the Galactic Empi...</td>\n",
       "      <td>136</td>\n",
       "      <td>Action|Adventure|Science Fiction|Fantasy</td>\n",
       "      <td>Lucasfilm|Truenorth Productions|Bad Robot</td>\n",
       "      <td>12/15/15</td>\n",
       "      <td>5292</td>\n",
       "      <td>7.5</td>\n",
       "      <td>2015</td>\n",
       "      <td>1.839999e+08</td>\n",
       "      <td>1.902723e+09</td>\n",
       "    </tr>\n",
       "    <tr>\n",
       "      <th>4</th>\n",
       "      <td>168259</td>\n",
       "      <td>tt2820852</td>\n",
       "      <td>9.335014</td>\n",
       "      <td>190000000</td>\n",
       "      <td>1506249360</td>\n",
       "      <td>Furious 7</td>\n",
       "      <td>Vin Diesel|Paul Walker|Jason Statham|Michelle ...</td>\n",
       "      <td>http://www.furious7.com/</td>\n",
       "      <td>James Wan</td>\n",
       "      <td>Vengeance Hits Home</td>\n",
       "      <td>...</td>\n",
       "      <td>Deckard Shaw seeks revenge against Dominic Tor...</td>\n",
       "      <td>137</td>\n",
       "      <td>Action|Crime|Thriller</td>\n",
       "      <td>Universal Pictures|Original Film|Media Rights ...</td>\n",
       "      <td>4/1/15</td>\n",
       "      <td>2947</td>\n",
       "      <td>7.3</td>\n",
       "      <td>2015</td>\n",
       "      <td>1.747999e+08</td>\n",
       "      <td>1.385749e+09</td>\n",
       "    </tr>\n",
       "  </tbody>\n",
       "</table>\n",
       "<p>5 rows × 21 columns</p>\n",
       "</div>"
      ],
      "text/plain": [
       "       id    imdb_id  popularity     budget     revenue  \\\n",
       "0  135397  tt0369610   32.985763  150000000  1513528810   \n",
       "1   76341  tt1392190   28.419936  150000000   378436354   \n",
       "2  262500  tt2908446   13.112507  110000000   295238201   \n",
       "3  140607  tt2488496   11.173104  200000000  2068178225   \n",
       "4  168259  tt2820852    9.335014  190000000  1506249360   \n",
       "\n",
       "                 original_title  \\\n",
       "0                Jurassic World   \n",
       "1            Mad Max: Fury Road   \n",
       "2                     Insurgent   \n",
       "3  Star Wars: The Force Awakens   \n",
       "4                     Furious 7   \n",
       "\n",
       "                                                cast  \\\n",
       "0  Chris Pratt|Bryce Dallas Howard|Irrfan Khan|Vi...   \n",
       "1  Tom Hardy|Charlize Theron|Hugh Keays-Byrne|Nic...   \n",
       "2  Shailene Woodley|Theo James|Kate Winslet|Ansel...   \n",
       "3  Harrison Ford|Mark Hamill|Carrie Fisher|Adam D...   \n",
       "4  Vin Diesel|Paul Walker|Jason Statham|Michelle ...   \n",
       "\n",
       "                                            homepage          director  \\\n",
       "0                      http://www.jurassicworld.com/   Colin Trevorrow   \n",
       "1                        http://www.madmaxmovie.com/     George Miller   \n",
       "2     http://www.thedivergentseries.movie/#insurgent  Robert Schwentke   \n",
       "3  http://www.starwars.com/films/star-wars-episod...       J.J. Abrams   \n",
       "4                           http://www.furious7.com/         James Wan   \n",
       "\n",
       "                         tagline      ...       \\\n",
       "0              The park is open.      ...        \n",
       "1             What a Lovely Day.      ...        \n",
       "2     One Choice Can Destroy You      ...        \n",
       "3  Every generation has a story.      ...        \n",
       "4            Vengeance Hits Home      ...        \n",
       "\n",
       "                                            overview runtime  \\\n",
       "0  Twenty-two years after the events of Jurassic ...     124   \n",
       "1  An apocalyptic story set in the furthest reach...     120   \n",
       "2  Beatrice Prior must confront her inner demons ...     119   \n",
       "3  Thirty years after defeating the Galactic Empi...     136   \n",
       "4  Deckard Shaw seeks revenge against Dominic Tor...     137   \n",
       "\n",
       "                                      genres  \\\n",
       "0  Action|Adventure|Science Fiction|Thriller   \n",
       "1  Action|Adventure|Science Fiction|Thriller   \n",
       "2         Adventure|Science Fiction|Thriller   \n",
       "3   Action|Adventure|Science Fiction|Fantasy   \n",
       "4                      Action|Crime|Thriller   \n",
       "\n",
       "                                production_companies release_date vote_count  \\\n",
       "0  Universal Studios|Amblin Entertainment|Legenda...       6/9/15       5562   \n",
       "1  Village Roadshow Pictures|Kennedy Miller Produ...      5/13/15       6185   \n",
       "2  Summit Entertainment|Mandeville Films|Red Wago...      3/18/15       2480   \n",
       "3          Lucasfilm|Truenorth Productions|Bad Robot     12/15/15       5292   \n",
       "4  Universal Pictures|Original Film|Media Rights ...       4/1/15       2947   \n",
       "\n",
       "   vote_average  release_year    budget_adj   revenue_adj  \n",
       "0           6.5          2015  1.379999e+08  1.392446e+09  \n",
       "1           7.1          2015  1.379999e+08  3.481613e+08  \n",
       "2           6.3          2015  1.012000e+08  2.716190e+08  \n",
       "3           7.5          2015  1.839999e+08  1.902723e+09  \n",
       "4           7.3          2015  1.747999e+08  1.385749e+09  \n",
       "\n",
       "[5 rows x 21 columns]"
      ]
     },
     "execution_count": 2,
     "metadata": {},
     "output_type": "execute_result"
    }
   ],
   "source": [
    "# Load your data and print out a few lines. Perform operations to inspect data\n",
    "#   types and look for instances of missing or possibly errant data.\n",
    "movie = pd.read_csv(\"movies.csv\")\n",
    "movie.head()"
   ]
  },
  {
   "cell_type": "code",
   "execution_count": 3,
   "metadata": {},
   "outputs": [
    {
     "data": {
      "text/plain": [
       "(10866, 21)"
      ]
     },
     "execution_count": 3,
     "metadata": {},
     "output_type": "execute_result"
    }
   ],
   "source": [
    "movie.shape"
   ]
  },
  {
   "cell_type": "markdown",
   "metadata": {},
   "source": [
    "It has 10866 Value  \n",
    "21 Columns"
   ]
  },
  {
   "cell_type": "code",
   "execution_count": 4,
   "metadata": {},
   "outputs": [
    {
     "name": "stdout",
     "output_type": "stream",
     "text": [
      "<class 'pandas.core.frame.DataFrame'>\n",
      "RangeIndex: 10866 entries, 0 to 10865\n",
      "Data columns (total 21 columns):\n",
      "id                      10866 non-null int64\n",
      "imdb_id                 10856 non-null object\n",
      "popularity              10866 non-null float64\n",
      "budget                  10866 non-null int64\n",
      "revenue                 10866 non-null int64\n",
      "original_title          10866 non-null object\n",
      "cast                    10790 non-null object\n",
      "homepage                2936 non-null object\n",
      "director                10822 non-null object\n",
      "tagline                 8042 non-null object\n",
      "keywords                9373 non-null object\n",
      "overview                10862 non-null object\n",
      "runtime                 10866 non-null int64\n",
      "genres                  10843 non-null object\n",
      "production_companies    9836 non-null object\n",
      "release_date            10866 non-null object\n",
      "vote_count              10866 non-null int64\n",
      "vote_average            10866 non-null float64\n",
      "release_year            10866 non-null int64\n",
      "budget_adj              10866 non-null float64\n",
      "revenue_adj             10866 non-null float64\n",
      "dtypes: float64(4), int64(6), object(11)\n",
      "memory usage: 1.7+ MB\n"
     ]
    }
   ],
   "source": [
    "#Get a summary about the dataset\n",
    "movie.info()"
   ]
  },
  {
   "cell_type": "code",
   "execution_count": 5,
   "metadata": {},
   "outputs": [
    {
     "data": {
      "text/html": [
       "<div>\n",
       "<style scoped>\n",
       "    .dataframe tbody tr th:only-of-type {\n",
       "        vertical-align: middle;\n",
       "    }\n",
       "\n",
       "    .dataframe tbody tr th {\n",
       "        vertical-align: top;\n",
       "    }\n",
       "\n",
       "    .dataframe thead th {\n",
       "        text-align: right;\n",
       "    }\n",
       "</style>\n",
       "<table border=\"1\" class=\"dataframe\">\n",
       "  <thead>\n",
       "    <tr style=\"text-align: right;\">\n",
       "      <th></th>\n",
       "      <th>id</th>\n",
       "      <th>popularity</th>\n",
       "      <th>budget</th>\n",
       "      <th>revenue</th>\n",
       "      <th>runtime</th>\n",
       "      <th>vote_count</th>\n",
       "      <th>vote_average</th>\n",
       "      <th>release_year</th>\n",
       "      <th>budget_adj</th>\n",
       "      <th>revenue_adj</th>\n",
       "    </tr>\n",
       "  </thead>\n",
       "  <tbody>\n",
       "    <tr>\n",
       "      <th>count</th>\n",
       "      <td>10866.000000</td>\n",
       "      <td>10866.000000</td>\n",
       "      <td>1.086600e+04</td>\n",
       "      <td>1.086600e+04</td>\n",
       "      <td>10866.000000</td>\n",
       "      <td>10866.000000</td>\n",
       "      <td>10866.000000</td>\n",
       "      <td>10866.000000</td>\n",
       "      <td>1.086600e+04</td>\n",
       "      <td>1.086600e+04</td>\n",
       "    </tr>\n",
       "    <tr>\n",
       "      <th>mean</th>\n",
       "      <td>66064.177434</td>\n",
       "      <td>0.646441</td>\n",
       "      <td>1.462570e+07</td>\n",
       "      <td>3.982332e+07</td>\n",
       "      <td>102.070863</td>\n",
       "      <td>217.389748</td>\n",
       "      <td>5.974922</td>\n",
       "      <td>2001.322658</td>\n",
       "      <td>1.755104e+07</td>\n",
       "      <td>5.136436e+07</td>\n",
       "    </tr>\n",
       "    <tr>\n",
       "      <th>std</th>\n",
       "      <td>92130.136561</td>\n",
       "      <td>1.000185</td>\n",
       "      <td>3.091321e+07</td>\n",
       "      <td>1.170035e+08</td>\n",
       "      <td>31.381405</td>\n",
       "      <td>575.619058</td>\n",
       "      <td>0.935142</td>\n",
       "      <td>12.812941</td>\n",
       "      <td>3.430616e+07</td>\n",
       "      <td>1.446325e+08</td>\n",
       "    </tr>\n",
       "    <tr>\n",
       "      <th>min</th>\n",
       "      <td>5.000000</td>\n",
       "      <td>0.000065</td>\n",
       "      <td>0.000000e+00</td>\n",
       "      <td>0.000000e+00</td>\n",
       "      <td>0.000000</td>\n",
       "      <td>10.000000</td>\n",
       "      <td>1.500000</td>\n",
       "      <td>1960.000000</td>\n",
       "      <td>0.000000e+00</td>\n",
       "      <td>0.000000e+00</td>\n",
       "    </tr>\n",
       "    <tr>\n",
       "      <th>25%</th>\n",
       "      <td>10596.250000</td>\n",
       "      <td>0.207583</td>\n",
       "      <td>0.000000e+00</td>\n",
       "      <td>0.000000e+00</td>\n",
       "      <td>90.000000</td>\n",
       "      <td>17.000000</td>\n",
       "      <td>5.400000</td>\n",
       "      <td>1995.000000</td>\n",
       "      <td>0.000000e+00</td>\n",
       "      <td>0.000000e+00</td>\n",
       "    </tr>\n",
       "    <tr>\n",
       "      <th>50%</th>\n",
       "      <td>20669.000000</td>\n",
       "      <td>0.383856</td>\n",
       "      <td>0.000000e+00</td>\n",
       "      <td>0.000000e+00</td>\n",
       "      <td>99.000000</td>\n",
       "      <td>38.000000</td>\n",
       "      <td>6.000000</td>\n",
       "      <td>2006.000000</td>\n",
       "      <td>0.000000e+00</td>\n",
       "      <td>0.000000e+00</td>\n",
       "    </tr>\n",
       "    <tr>\n",
       "      <th>75%</th>\n",
       "      <td>75610.000000</td>\n",
       "      <td>0.713817</td>\n",
       "      <td>1.500000e+07</td>\n",
       "      <td>2.400000e+07</td>\n",
       "      <td>111.000000</td>\n",
       "      <td>145.750000</td>\n",
       "      <td>6.600000</td>\n",
       "      <td>2011.000000</td>\n",
       "      <td>2.085325e+07</td>\n",
       "      <td>3.369710e+07</td>\n",
       "    </tr>\n",
       "    <tr>\n",
       "      <th>max</th>\n",
       "      <td>417859.000000</td>\n",
       "      <td>32.985763</td>\n",
       "      <td>4.250000e+08</td>\n",
       "      <td>2.781506e+09</td>\n",
       "      <td>900.000000</td>\n",
       "      <td>9767.000000</td>\n",
       "      <td>9.200000</td>\n",
       "      <td>2015.000000</td>\n",
       "      <td>4.250000e+08</td>\n",
       "      <td>2.827124e+09</td>\n",
       "    </tr>\n",
       "  </tbody>\n",
       "</table>\n",
       "</div>"
      ],
      "text/plain": [
       "                  id    popularity        budget       revenue       runtime  \\\n",
       "count   10866.000000  10866.000000  1.086600e+04  1.086600e+04  10866.000000   \n",
       "mean    66064.177434      0.646441  1.462570e+07  3.982332e+07    102.070863   \n",
       "std     92130.136561      1.000185  3.091321e+07  1.170035e+08     31.381405   \n",
       "min         5.000000      0.000065  0.000000e+00  0.000000e+00      0.000000   \n",
       "25%     10596.250000      0.207583  0.000000e+00  0.000000e+00     90.000000   \n",
       "50%     20669.000000      0.383856  0.000000e+00  0.000000e+00     99.000000   \n",
       "75%     75610.000000      0.713817  1.500000e+07  2.400000e+07    111.000000   \n",
       "max    417859.000000     32.985763  4.250000e+08  2.781506e+09    900.000000   \n",
       "\n",
       "         vote_count  vote_average  release_year    budget_adj   revenue_adj  \n",
       "count  10866.000000  10866.000000  10866.000000  1.086600e+04  1.086600e+04  \n",
       "mean     217.389748      5.974922   2001.322658  1.755104e+07  5.136436e+07  \n",
       "std      575.619058      0.935142     12.812941  3.430616e+07  1.446325e+08  \n",
       "min       10.000000      1.500000   1960.000000  0.000000e+00  0.000000e+00  \n",
       "25%       17.000000      5.400000   1995.000000  0.000000e+00  0.000000e+00  \n",
       "50%       38.000000      6.000000   2006.000000  0.000000e+00  0.000000e+00  \n",
       "75%      145.750000      6.600000   2011.000000  2.085325e+07  3.369710e+07  \n",
       "max     9767.000000      9.200000   2015.000000  4.250000e+08  2.827124e+09  "
      ]
     },
     "execution_count": 5,
     "metadata": {},
     "output_type": "execute_result"
    }
   ],
   "source": [
    "#Get a statistic summary about the dataset\n",
    "movie.describe()"
   ]
  },
  {
   "cell_type": "markdown",
   "metadata": {},
   "source": [
    "Looks like! The budget and revenue columns have lot of zero value which can affect the analysis, so I will remove them "
   ]
  },
  {
   "cell_type": "code",
   "execution_count": 6,
   "metadata": {},
   "outputs": [
    {
     "data": {
      "text/plain": [
       "id                         0\n",
       "imdb_id                   10\n",
       "popularity                 0\n",
       "budget                     0\n",
       "revenue                    0\n",
       "original_title             0\n",
       "cast                      76\n",
       "homepage                7930\n",
       "director                  44\n",
       "tagline                 2824\n",
       "keywords                1493\n",
       "overview                   4\n",
       "runtime                    0\n",
       "genres                    23\n",
       "production_companies    1030\n",
       "release_date               0\n",
       "vote_count                 0\n",
       "vote_average               0\n",
       "release_year               0\n",
       "budget_adj                 0\n",
       "revenue_adj                0\n",
       "dtype: int64"
      ]
     },
     "execution_count": 6,
     "metadata": {},
     "output_type": "execute_result"
    }
   ],
   "source": [
    "#count total rows in each column which contain null values\n",
    "movie.isna().sum()"
   ]
  },
  {
   "cell_type": "markdown",
   "metadata": {},
   "source": [
    "since null value only exist in non int columns, it won't affect the analysis"
   ]
  },
  {
   "cell_type": "markdown",
   "metadata": {},
   "source": [
    "I will drop these columns since I don't need them in my analysis\n",
    "1. Budget_adj\n",
    "2. Revenue_adj\n",
    "3. Tagline\n",
    "4. Homepage\n",
    "5. Imdb_id\n",
    "6. Overview\n"
   ]
  },
  {
   "cell_type": "code",
   "execution_count": 7,
   "metadata": {},
   "outputs": [
    {
     "data": {
      "text/plain": [
       "1"
      ]
     },
     "execution_count": 7,
     "metadata": {},
     "output_type": "execute_result"
    }
   ],
   "source": [
    "#Get the number of duplicated rows\n",
    "movie.duplicated().sum()"
   ]
  },
  {
   "cell_type": "markdown",
   "metadata": {},
   "source": [
    "> **Tip**: You should _not_ perform too many operations in each cell. Create cells freely to explore your data. One option that you can take with this project is to do a lot of explorations in an initial notebook. These don't have to be organized, but make sure you use enough comments to understand the purpose of each code cell. Then, after you're done with your analysis, create a duplicate notebook where you will trim the excess and organize your steps so that you have a flowing, cohesive report.\n",
    "\n",
    "> **Tip**: Make sure that you keep your reader informed on the steps that you are taking in your investigation. Follow every code cell, or every set of related code cells, with a markdown cell to describe to the reader what was found in the preceding cell(s). Try to make it so that the reader can then understand what they will be seeing in the following cell(s).\n",
    "\n",
    "### Data Cleaning\n",
    "\n",
    "    1. Remove duplicate rows from the dataset\n",
    "    2. Changing format of release date into datetime format\n",
    "    3. Remove the movies which are having zero value of budget or revenue.\n",
    "    4. Remove the unused colums that are not needes in the analysis process."
   ]
  },
  {
   "cell_type": "markdown",
   "metadata": {},
   "source": [
    "https://www.geeksforgeeks.org/python-pandas-split-strings-into-two-list-columns-using-str-split/"
   ]
  },
  {
   "cell_type": "markdown",
   "metadata": {},
   "source": [
    "1. Remove Duplicate Rows"
   ]
  },
  {
   "cell_type": "code",
   "execution_count": 8,
   "metadata": {},
   "outputs": [],
   "source": [
    "#will remove duplicated which is one row\n",
    "movie.drop_duplicates(inplace=True)"
   ]
  },
  {
   "cell_type": "markdown",
   "metadata": {},
   "source": [
    "2. Changing Format Of Release Date Into Datetime Format"
   ]
  },
  {
   "cell_type": "code",
   "execution_count": 9,
   "metadata": {},
   "outputs": [],
   "source": [
    "movie['release_date'] = pd.to_datetime(movie['release_date'])"
   ]
  },
  {
   "cell_type": "code",
   "execution_count": 10,
   "metadata": {},
   "outputs": [
    {
     "name": "stdout",
     "output_type": "stream",
     "text": [
      "<class 'pandas.core.frame.DataFrame'>\n",
      "Int64Index: 10865 entries, 0 to 10865\n",
      "Data columns (total 21 columns):\n",
      "id                      10865 non-null int64\n",
      "imdb_id                 10855 non-null object\n",
      "popularity              10865 non-null float64\n",
      "budget                  10865 non-null int64\n",
      "revenue                 10865 non-null int64\n",
      "original_title          10865 non-null object\n",
      "cast                    10789 non-null object\n",
      "homepage                2936 non-null object\n",
      "director                10821 non-null object\n",
      "tagline                 8041 non-null object\n",
      "keywords                9372 non-null object\n",
      "overview                10861 non-null object\n",
      "runtime                 10865 non-null int64\n",
      "genres                  10842 non-null object\n",
      "production_companies    9835 non-null object\n",
      "release_date            10865 non-null datetime64[ns]\n",
      "vote_count              10865 non-null int64\n",
      "vote_average            10865 non-null float64\n",
      "release_year            10865 non-null int64\n",
      "budget_adj              10865 non-null float64\n",
      "revenue_adj             10865 non-null float64\n",
      "dtypes: datetime64[ns](1), float64(4), int64(6), object(10)\n",
      "memory usage: 1.8+ MB\n"
     ]
    }
   ],
   "source": [
    "movie.info()"
   ]
  },
  {
   "cell_type": "markdown",
   "metadata": {},
   "source": [
    "3. Remove the movies which are having zero value of budget or revenue.\n",
    "\n",
    "After seeing that the number of zeros in Budget and Revenue \n",
    "\n",
    "I will Drop Budget with Zero values because that mean a missing data "
   ]
  },
  {
   "cell_type": "code",
   "execution_count": 11,
   "metadata": {},
   "outputs": [
    {
     "data": {
      "text/plain": [
       "id                      7011\n",
       "imdb_id                 7001\n",
       "popularity              7011\n",
       "budget                  7011\n",
       "revenue                 7011\n",
       "original_title          7011\n",
       "cast                    6939\n",
       "homepage                1510\n",
       "director                6968\n",
       "tagline                 4467\n",
       "keywords                5656\n",
       "overview                7007\n",
       "runtime                 7011\n",
       "genres                  6988\n",
       "production_companies    6027\n",
       "release_date            7011\n",
       "vote_count              7011\n",
       "vote_average            7011\n",
       "release_year            7011\n",
       "budget_adj              7011\n",
       "revenue_adj             7011\n",
       "dtype: int64"
      ]
     },
     "execution_count": 11,
     "metadata": {},
     "output_type": "execute_result"
    }
   ],
   "source": [
    "movie.query('budget == 0 or revenue == 0').count()"
   ]
  },
  {
   "cell_type": "code",
   "execution_count": 12,
   "metadata": {},
   "outputs": [],
   "source": [
    "clear = movie.query('budget == \"0\"').index\n",
    "movie.drop(movie.index[clear], axis=0, inplace=True)"
   ]
  },
  {
   "cell_type": "markdown",
   "metadata": {},
   "source": [
    "4. Remove the unused colums that are not needed in the analysis process\n",
    "    \n",
    "    The columns like imdb_id, homepage,tagline, overview, budget_adj and revenue_adj are not required for my analysis and I will drop these columns."
   ]
  },
  {
   "cell_type": "code",
   "execution_count": 13,
   "metadata": {},
   "outputs": [],
   "source": [
    "#Remove unwanted columns\n",
    "movie.drop(['budget_adj', 'revenue_adj', 'tagline', 'homepage', 'imdb_id', 'overview'], axis=1, inplace=True)"
   ]
  },
  {
   "cell_type": "code",
   "execution_count": 14,
   "metadata": {},
   "outputs": [
    {
     "data": {
      "text/html": [
       "<div>\n",
       "<style scoped>\n",
       "    .dataframe tbody tr th:only-of-type {\n",
       "        vertical-align: middle;\n",
       "    }\n",
       "\n",
       "    .dataframe tbody tr th {\n",
       "        vertical-align: top;\n",
       "    }\n",
       "\n",
       "    .dataframe thead th {\n",
       "        text-align: right;\n",
       "    }\n",
       "</style>\n",
       "<table border=\"1\" class=\"dataframe\">\n",
       "  <thead>\n",
       "    <tr style=\"text-align: right;\">\n",
       "      <th></th>\n",
       "      <th>id</th>\n",
       "      <th>popularity</th>\n",
       "      <th>budget</th>\n",
       "      <th>revenue</th>\n",
       "      <th>original_title</th>\n",
       "      <th>cast</th>\n",
       "      <th>director</th>\n",
       "      <th>keywords</th>\n",
       "      <th>runtime</th>\n",
       "      <th>genres</th>\n",
       "      <th>production_companies</th>\n",
       "      <th>release_date</th>\n",
       "      <th>vote_count</th>\n",
       "      <th>vote_average</th>\n",
       "      <th>release_year</th>\n",
       "    </tr>\n",
       "  </thead>\n",
       "  <tbody>\n",
       "    <tr>\n",
       "      <th>10833</th>\n",
       "      <td>3001</td>\n",
       "      <td>0.737730</td>\n",
       "      <td>0</td>\n",
       "      <td>0</td>\n",
       "      <td>How to Steal a Million</td>\n",
       "      <td>Audrey Hepburn|Peter O'Toole|Eli Wallach|Hugh ...</td>\n",
       "      <td>William Wyler</td>\n",
       "      <td>insurance fraud|theft|art thief|swinging 60s|f...</td>\n",
       "      <td>123</td>\n",
       "      <td>Comedy|Crime|Romance</td>\n",
       "      <td>World Wide Productions</td>\n",
       "      <td>2066-07-13</td>\n",
       "      <td>67</td>\n",
       "      <td>7.3</td>\n",
       "      <td>1966</td>\n",
       "    </tr>\n",
       "    <tr>\n",
       "      <th>10836</th>\n",
       "      <td>38720</td>\n",
       "      <td>0.239435</td>\n",
       "      <td>0</td>\n",
       "      <td>0</td>\n",
       "      <td>Walk Don't Run</td>\n",
       "      <td>Cary Grant|Samantha Eggar|Jim Hutton|John Stan...</td>\n",
       "      <td>Charles Walters</td>\n",
       "      <td>hotel room|embassy|olympics|housing shortage</td>\n",
       "      <td>114</td>\n",
       "      <td>Comedy|Romance</td>\n",
       "      <td>Columbia Pictures Corporation</td>\n",
       "      <td>2066-01-01</td>\n",
       "      <td>11</td>\n",
       "      <td>5.8</td>\n",
       "      <td>1966</td>\n",
       "    </tr>\n",
       "    <tr>\n",
       "      <th>10842</th>\n",
       "      <td>36540</td>\n",
       "      <td>0.253437</td>\n",
       "      <td>0</td>\n",
       "      <td>0</td>\n",
       "      <td>Winnie the Pooh and the Honey Tree</td>\n",
       "      <td>Sterling Holloway|Junius Matthews|Sebastian Ca...</td>\n",
       "      <td>Wolfgang Reitherman</td>\n",
       "      <td>NaN</td>\n",
       "      <td>25</td>\n",
       "      <td>Animation|Family</td>\n",
       "      <td>NaN</td>\n",
       "      <td>2066-01-01</td>\n",
       "      <td>12</td>\n",
       "      <td>7.9</td>\n",
       "      <td>1966</td>\n",
       "    </tr>\n",
       "    <tr>\n",
       "      <th>10849</th>\n",
       "      <td>28270</td>\n",
       "      <td>0.206537</td>\n",
       "      <td>0</td>\n",
       "      <td>0</td>\n",
       "      <td>Gambit</td>\n",
       "      <td>Michael Caine|Shirley MacLaine|Herbert Lom|Joh...</td>\n",
       "      <td>Ronald Neame</td>\n",
       "      <td>master thief</td>\n",
       "      <td>109</td>\n",
       "      <td>Action|Comedy|Crime</td>\n",
       "      <td>Universal Pictures</td>\n",
       "      <td>2066-12-16</td>\n",
       "      <td>14</td>\n",
       "      <td>6.1</td>\n",
       "      <td>1966</td>\n",
       "    </tr>\n",
       "    <tr>\n",
       "      <th>10856</th>\n",
       "      <td>20277</td>\n",
       "      <td>0.140934</td>\n",
       "      <td>0</td>\n",
       "      <td>0</td>\n",
       "      <td>The Ugly Dachshund</td>\n",
       "      <td>Dean Jones|Suzanne Pleshette|Charles Ruggles|K...</td>\n",
       "      <td>Norman Tokar</td>\n",
       "      <td>great dane|dachshund</td>\n",
       "      <td>93</td>\n",
       "      <td>Comedy|Drama|Family</td>\n",
       "      <td>Walt Disney Pictures</td>\n",
       "      <td>2066-02-16</td>\n",
       "      <td>14</td>\n",
       "      <td>5.7</td>\n",
       "      <td>1966</td>\n",
       "    </tr>\n",
       "  </tbody>\n",
       "</table>\n",
       "</div>"
      ],
      "text/plain": [
       "          id  popularity  budget  revenue                      original_title  \\\n",
       "10833   3001    0.737730       0        0              How to Steal a Million   \n",
       "10836  38720    0.239435       0        0                      Walk Don't Run   \n",
       "10842  36540    0.253437       0        0  Winnie the Pooh and the Honey Tree   \n",
       "10849  28270    0.206537       0        0                              Gambit   \n",
       "10856  20277    0.140934       0        0                  The Ugly Dachshund   \n",
       "\n",
       "                                                    cast             director  \\\n",
       "10833  Audrey Hepburn|Peter O'Toole|Eli Wallach|Hugh ...        William Wyler   \n",
       "10836  Cary Grant|Samantha Eggar|Jim Hutton|John Stan...      Charles Walters   \n",
       "10842  Sterling Holloway|Junius Matthews|Sebastian Ca...  Wolfgang Reitherman   \n",
       "10849  Michael Caine|Shirley MacLaine|Herbert Lom|Joh...         Ronald Neame   \n",
       "10856  Dean Jones|Suzanne Pleshette|Charles Ruggles|K...         Norman Tokar   \n",
       "\n",
       "                                                keywords  runtime  \\\n",
       "10833  insurance fraud|theft|art thief|swinging 60s|f...      123   \n",
       "10836       hotel room|embassy|olympics|housing shortage      114   \n",
       "10842                                                NaN       25   \n",
       "10849                                       master thief      109   \n",
       "10856                               great dane|dachshund       93   \n",
       "\n",
       "                     genres           production_companies release_date  \\\n",
       "10833  Comedy|Crime|Romance         World Wide Productions   2066-07-13   \n",
       "10836        Comedy|Romance  Columbia Pictures Corporation   2066-01-01   \n",
       "10842      Animation|Family                            NaN   2066-01-01   \n",
       "10849   Action|Comedy|Crime             Universal Pictures   2066-12-16   \n",
       "10856   Comedy|Drama|Family           Walt Disney Pictures   2066-02-16   \n",
       "\n",
       "       vote_count  vote_average  release_year  \n",
       "10833          67           7.3          1966  \n",
       "10836          11           5.8          1966  \n",
       "10842          12           7.9          1966  \n",
       "10849          14           6.1          1966  \n",
       "10856          14           5.7          1966  "
      ]
     },
     "execution_count": 14,
     "metadata": {},
     "output_type": "execute_result"
    }
   ],
   "source": [
    "movie.tail()"
   ]
  },
  {
   "cell_type": "markdown",
   "metadata": {},
   "source": [
    "<a id='eda'></a>\n",
    "## Exploratory Data Analysis\n",
    "\n",
    "> **Tip**: Now that you've trimmed and cleaned your data, you're ready to move on to exploration. Compute statistics and create visualizations with the goal of addressing the research questions that you posed in the Introduction section. It is recommended that you be systematic with your approach. Look at one variable at a time, and then follow it up by looking at relationships between variables.\n",
    "\n",
    "## What is The Highest and Lowest Movie Ever in Terms of Profit ? "
   ]
  },
  {
   "cell_type": "code",
   "execution_count": 15,
   "metadata": {},
   "outputs": [],
   "source": [
    "#Caluculate the profit in a new column\n",
    "movie['profit'] = movie['revenue'] - movie['budget']"
   ]
  },
  {
   "cell_type": "markdown",
   "metadata": {},
   "source": [
    "https://stackoverflow.com/questions/15741759/find-maximum-value-of-a-column-and-return-the-corresponding-row-values-using-pan"
   ]
  },
  {
   "cell_type": "code",
   "execution_count": 16,
   "metadata": {},
   "outputs": [],
   "source": [
    "#function to make ultimate comparison between the highest and lowest through all the years\n",
    "def ulti_comparison(x):\n",
    "    #to write the comparison varibles in a better way\n",
    "    y = x.replace('_', ' ').title()\n",
    "    #Get the maximum and minimum value in movies profit\n",
    "    max_value = movie.loc[movie[x].idxmax()]\n",
    "    mini_value = movie.loc[movie[x].idxmin()]\n",
    "    #Write the summary of the comparison\n",
    "    print(\"The highest {} movie is : {} with {} = {}\".format(y, max_value['original_title'], y, max_value[x]))\n",
    "    print(\"The lowest {} movie is : {} with {} = {}\".format(y, mini_value['original_title'], y, mini_value[x]))\n",
    "    return pd.concat([max_value,mini_value], axis=1, keys=[max_value['original_title'], mini_value['original_title']])"
   ]
  },
  {
   "cell_type": "code",
   "execution_count": 17,
   "metadata": {
    "scrolled": false
   },
   "outputs": [
    {
     "name": "stdout",
     "output_type": "stream",
     "text": [
      "The highest Profit movie is : Avatar with Profit = 2544505847\n",
      "The lowest Profit movie is : The Lone Ranger with Profit = -165710090\n"
     ]
    },
    {
     "data": {
      "text/html": [
       "<div>\n",
       "<style scoped>\n",
       "    .dataframe tbody tr th:only-of-type {\n",
       "        vertical-align: middle;\n",
       "    }\n",
       "\n",
       "    .dataframe tbody tr th {\n",
       "        vertical-align: top;\n",
       "    }\n",
       "\n",
       "    .dataframe thead th {\n",
       "        text-align: right;\n",
       "    }\n",
       "</style>\n",
       "<table border=\"1\" class=\"dataframe\">\n",
       "  <thead>\n",
       "    <tr style=\"text-align: right;\">\n",
       "      <th></th>\n",
       "      <th>Avatar</th>\n",
       "      <th>The Lone Ranger</th>\n",
       "    </tr>\n",
       "  </thead>\n",
       "  <tbody>\n",
       "    <tr>\n",
       "      <th>id</th>\n",
       "      <td>19995</td>\n",
       "      <td>57201</td>\n",
       "    </tr>\n",
       "    <tr>\n",
       "      <th>popularity</th>\n",
       "      <td>9.43277</td>\n",
       "      <td>1.21451</td>\n",
       "    </tr>\n",
       "    <tr>\n",
       "      <th>budget</th>\n",
       "      <td>237000000</td>\n",
       "      <td>255000000</td>\n",
       "    </tr>\n",
       "    <tr>\n",
       "      <th>revenue</th>\n",
       "      <td>2781505847</td>\n",
       "      <td>89289910</td>\n",
       "    </tr>\n",
       "    <tr>\n",
       "      <th>original_title</th>\n",
       "      <td>Avatar</td>\n",
       "      <td>The Lone Ranger</td>\n",
       "    </tr>\n",
       "    <tr>\n",
       "      <th>cast</th>\n",
       "      <td>Sam Worthington|Zoe Saldana|Sigourney Weaver|S...</td>\n",
       "      <td>Johnny Depp|Armie Hammer|William Fichtner|Hele...</td>\n",
       "    </tr>\n",
       "    <tr>\n",
       "      <th>director</th>\n",
       "      <td>James Cameron</td>\n",
       "      <td>Gore Verbinski</td>\n",
       "    </tr>\n",
       "    <tr>\n",
       "      <th>keywords</th>\n",
       "      <td>culture clash|future|space war|space colony|so...</td>\n",
       "      <td>texas|horse|survivor|texas ranger|partner</td>\n",
       "    </tr>\n",
       "    <tr>\n",
       "      <th>runtime</th>\n",
       "      <td>162</td>\n",
       "      <td>149</td>\n",
       "    </tr>\n",
       "    <tr>\n",
       "      <th>genres</th>\n",
       "      <td>Action|Adventure|Fantasy|Science Fiction</td>\n",
       "      <td>Action|Adventure|Western</td>\n",
       "    </tr>\n",
       "    <tr>\n",
       "      <th>production_companies</th>\n",
       "      <td>Ingenious Film Partners|Twentieth Century Fox ...</td>\n",
       "      <td>Walt Disney Pictures|Jerry Bruckheimer Films|I...</td>\n",
       "    </tr>\n",
       "    <tr>\n",
       "      <th>release_date</th>\n",
       "      <td>2009-12-10 00:00:00</td>\n",
       "      <td>2013-07-03 00:00:00</td>\n",
       "    </tr>\n",
       "    <tr>\n",
       "      <th>vote_count</th>\n",
       "      <td>8458</td>\n",
       "      <td>1607</td>\n",
       "    </tr>\n",
       "    <tr>\n",
       "      <th>vote_average</th>\n",
       "      <td>7.1</td>\n",
       "      <td>6</td>\n",
       "    </tr>\n",
       "    <tr>\n",
       "      <th>release_year</th>\n",
       "      <td>2009</td>\n",
       "      <td>2013</td>\n",
       "    </tr>\n",
       "    <tr>\n",
       "      <th>profit</th>\n",
       "      <td>2544505847</td>\n",
       "      <td>-165710090</td>\n",
       "    </tr>\n",
       "  </tbody>\n",
       "</table>\n",
       "</div>"
      ],
      "text/plain": [
       "                                                                 Avatar  \\\n",
       "id                                                                19995   \n",
       "popularity                                                      9.43277   \n",
       "budget                                                        237000000   \n",
       "revenue                                                      2781505847   \n",
       "original_title                                                   Avatar   \n",
       "cast                  Sam Worthington|Zoe Saldana|Sigourney Weaver|S...   \n",
       "director                                                  James Cameron   \n",
       "keywords              culture clash|future|space war|space colony|so...   \n",
       "runtime                                                             162   \n",
       "genres                         Action|Adventure|Fantasy|Science Fiction   \n",
       "production_companies  Ingenious Film Partners|Twentieth Century Fox ...   \n",
       "release_date                                        2009-12-10 00:00:00   \n",
       "vote_count                                                         8458   \n",
       "vote_average                                                        7.1   \n",
       "release_year                                                       2009   \n",
       "profit                                                       2544505847   \n",
       "\n",
       "                                                        The Lone Ranger  \n",
       "id                                                                57201  \n",
       "popularity                                                      1.21451  \n",
       "budget                                                        255000000  \n",
       "revenue                                                        89289910  \n",
       "original_title                                          The Lone Ranger  \n",
       "cast                  Johnny Depp|Armie Hammer|William Fichtner|Hele...  \n",
       "director                                                 Gore Verbinski  \n",
       "keywords                      texas|horse|survivor|texas ranger|partner  \n",
       "runtime                                                             149  \n",
       "genres                                         Action|Adventure|Western  \n",
       "production_companies  Walt Disney Pictures|Jerry Bruckheimer Films|I...  \n",
       "release_date                                        2013-07-03 00:00:00  \n",
       "vote_count                                                         1607  \n",
       "vote_average                                                          6  \n",
       "release_year                                                       2013  \n",
       "profit                                                       -165710090  "
      ]
     },
     "execution_count": 17,
     "metadata": {},
     "output_type": "execute_result"
    }
   ],
   "source": [
    "ulti_comparison('profit')"
   ]
  },
  {
   "cell_type": "markdown",
   "metadata": {},
   "source": [
    "\n",
    "\n",
    "The first column shows the highest profit made by a movie and second column shows the highest in loss movie in this dataset.\n",
    "\n",
    "As we can see that 'Avatar' movie Directed by James Cameron earn the highest profit in all, making over 2.5B in profit in this dataset.\n",
    "\n",
    "And the most in loss movie in this dataset is The Warrior's Way. Going in loss by more than 400M was directed by Singmoo Lee.\n",
    "\n"
   ]
  },
  {
   "cell_type": "markdown",
   "metadata": {},
   "source": [
    "## What is All Times Top 10 Movies Which Earn The Highest Profit?"
   ]
  },
  {
   "cell_type": "markdown",
   "metadata": {},
   "source": [
    "https://stackoverflow.com/questions/43859416/finding-top-10-in-a-dataframe-in-pandas"
   ]
  },
  {
   "cell_type": "code",
   "execution_count": 18,
   "metadata": {},
   "outputs": [],
   "source": [
    "#Get the top10 profitable movies by using nlargest()\n",
    "top10 = movie.nlargest(10, 'profit')[['original_title','profit']]\n",
    "#make a dataframe and make the index movies titles \n",
    "top10 = pd.DataFrame(data = (top10['profit'].values), index = top10['original_title'])\n",
    "top10.rename(columns={0:'profit'}, inplace=True)"
   ]
  },
  {
   "cell_type": "markdown",
   "metadata": {},
   "source": [
    "https://www.geeksforgeeks.org/python-seaborn-pointplot-method/"
   ]
  },
  {
   "cell_type": "code",
   "execution_count": 19,
   "metadata": {
    "scrolled": true
   },
   "outputs": [
    {
     "data": {
      "image/png": "[encoded data removed]",
      "text/plain": [
       "<matplotlib.figure.Figure at 0x7f04f88ff828>"
      ]
     },
     "metadata": {
      "needs_background": "light"
     },
     "output_type": "display_data"
    }
   ],
   "source": [
    "ax=top10.plot(kind='barh', figsize=(15,5));\n",
    "#setup the title and labels of the plot.\n",
    "ax.set_title(\"Top 10 Profitable Movies\",fontsize = 15)\n",
    "ax.set_xlabel(\"Profit\",fontsize = 13)\n",
    "ax.set_ylabel(\"Movie\",fontsize = 13);"
   ]
  },
  {
   "cell_type": "markdown",
   "metadata": {},
   "source": [
    "I chose Bar Graph to compare differences in Profit among The Movies.\n",
    "\n",
    "It shows that Avatar is the Most Profitable movie through the years with over 2.5 Billion Dollars"
   ]
  },
  {
   "cell_type": "markdown",
   "metadata": {},
   "source": [
    "## What is The Top 20 Genres With Higher Number Of Release?"
   ]
  },
  {
   "cell_type": "code",
   "execution_count": 20,
   "metadata": {},
   "outputs": [],
   "source": [
    "#to count the items in rows that have multiple items\n",
    "def count_items(x):\n",
    "    data = movie[x].str.cat(sep = '|')\n",
    "    data = pd.Series(data.split('|'))\n",
    "    data = data.value_counts()\n",
    "    return data"
   ]
  },
  {
   "cell_type": "code",
   "execution_count": 21,
   "metadata": {
    "scrolled": true
   },
   "outputs": [
    {
     "data": {
      "image/png": "[encoded data removed]",
      "text/plain": [
       "<matplotlib.figure.Figure at 0x7f04c85623c8>"
      ]
     },
     "metadata": {
      "needs_background": "light"
     },
     "output_type": "display_data"
    }
   ],
   "source": [
    "count_items('genres').iloc[:20].plot(kind='barh',figsize = (15,5),fontsize=12)\n",
    "#setup the title and labels.\n",
    "plt.title(\"The Genres With Highest Release\",fontsize=15)\n",
    "plt.xlabel('Number Of Movies',fontsize=13)\n",
    "plt.ylabel(\"Genres\",fontsize= 13);"
   ]
  },
  {
   "cell_type": "markdown",
   "metadata": {},
   "source": [
    "I chose Bar Graph to compare differences in Number of Release among The Genres\n",
    "\n",
    "it shows that Drama Genre has the highest Realese through the years with over 2000 movie"
   ]
  },
  {
   "cell_type": "markdown",
   "metadata": {},
   "source": [
    "## What are The Top Profitable Production Companies?"
   ]
  },
  {
   "cell_type": "code",
   "execution_count": 22,
   "metadata": {},
   "outputs": [],
   "source": [
    "companies = pd.DataFrame(count_items('production_companies'))\n",
    "data = pd.DataFrame(movie.groupby('production_companies')['profit'].sum()).sort_values(by='profit', ascending=False)\n",
    "\n",
    "for i in list(data.index):\n",
    "    profit = data.loc[i]\n",
    "    split_companies = list(i.split('|'))\n",
    "    companies.loc[split_companies] = companies.loc[split_companies] + profit[0]\n",
    "companies = companies.sort_values(by=0, ascending=False)"
   ]
  },
  {
   "cell_type": "code",
   "execution_count": 23,
   "metadata": {
    "scrolled": true
   },
   "outputs": [
    {
     "data": {
      "text/html": [
       "<div>\n",
       "<style scoped>\n",
       "    .dataframe tbody tr th:only-of-type {\n",
       "        vertical-align: middle;\n",
       "    }\n",
       "\n",
       "    .dataframe tbody tr th {\n",
       "        vertical-align: top;\n",
       "    }\n",
       "\n",
       "    .dataframe thead th {\n",
       "        text-align: right;\n",
       "    }\n",
       "</style>\n",
       "<table border=\"1\" class=\"dataframe\">\n",
       "  <thead>\n",
       "    <tr style=\"text-align: right;\">\n",
       "      <th></th>\n",
       "      <th>profit</th>\n",
       "    </tr>\n",
       "  </thead>\n",
       "  <tbody>\n",
       "    <tr>\n",
       "      <th>Warner Bros.</th>\n",
       "      <td>30118470716</td>\n",
       "    </tr>\n",
       "    <tr>\n",
       "      <th>Universal Pictures</th>\n",
       "      <td>27953086980</td>\n",
       "    </tr>\n",
       "    <tr>\n",
       "      <th>Paramount Pictures</th>\n",
       "      <td>21930057380</td>\n",
       "    </tr>\n",
       "    <tr>\n",
       "      <th>Twentieth Century Fox Film Corporation</th>\n",
       "      <td>21663739024</td>\n",
       "    </tr>\n",
       "    <tr>\n",
       "      <th>Walt Disney Pictures</th>\n",
       "      <td>19872264295</td>\n",
       "    </tr>\n",
       "    <tr>\n",
       "      <th>Columbia Pictures</th>\n",
       "      <td>17906525744</td>\n",
       "    </tr>\n",
       "    <tr>\n",
       "      <th>Amblin Entertainment</th>\n",
       "      <td>11207946396</td>\n",
       "    </tr>\n",
       "    <tr>\n",
       "      <th>New Line Cinema</th>\n",
       "      <td>10605042415</td>\n",
       "    </tr>\n",
       "    <tr>\n",
       "      <th>DreamWorks SKG</th>\n",
       "      <td>9101900530</td>\n",
       "    </tr>\n",
       "    <tr>\n",
       "      <th>Legendary Pictures</th>\n",
       "      <td>8086015686</td>\n",
       "    </tr>\n",
       "  </tbody>\n",
       "</table>\n",
       "</div>"
      ],
      "text/plain": [
       "                                             profit\n",
       "Warner Bros.                            30118470716\n",
       "Universal Pictures                      27953086980\n",
       "Paramount Pictures                      21930057380\n",
       "Twentieth Century Fox Film Corporation  21663739024\n",
       "Walt Disney Pictures                    19872264295\n",
       "Columbia Pictures                       17906525744\n",
       "Amblin Entertainment                    11207946396\n",
       "New Line Cinema                         10605042415\n",
       "DreamWorks SKG                           9101900530\n",
       "Legendary Pictures                       8086015686"
      ]
     },
     "execution_count": 23,
     "metadata": {},
     "output_type": "execute_result"
    }
   ],
   "source": [
    "companies.rename(columns={0:'profit'}).head(10)"
   ]
  },
  {
   "cell_type": "code",
   "execution_count": 24,
   "metadata": {
    "scrolled": true
   },
   "outputs": [
    {
     "data": {
      "image/png": "[encoded data removed]",
      "text/plain": [
       "<matplotlib.figure.Figure at 0x7f04c800da20>"
      ]
     },
     "metadata": {
      "needs_background": "light"
     },
     "output_type": "display_data"
    }
   ],
   "source": [
    "#Rename the column name \n",
    "companies = companies.rename(columns={0:'Total Profit'})\n",
    "#Get the top 20\n",
    "#plot the barh plot\n",
    "companies[:20].plot.barh(figsize=(15,5),fontsize=12,legend=True)\n",
    "plt.title(\"Production Companies Vs Life Time Profit\",fontsize=15)\n",
    "plt.xlabel('Total Profit',fontsize=13);"
   ]
  },
  {
   "cell_type": "markdown",
   "metadata": {},
   "source": [
    "I chose Bar Graph to compare differences in Profit among The Production Companies \n",
    "\n",
    "It Shows that Warner Bros with over 30 Billion Dollar"
   ]
  },
  {
   "cell_type": "markdown",
   "metadata": {},
   "source": [
    "## Which Length Most Liked by The Audiences According to their Popularity?"
   ]
  },
  {
   "cell_type": "code",
   "execution_count": 25,
   "metadata": {
    "scrolled": false
   },
   "outputs": [
    {
     "data": {
      "image/png": "[encoded data removed]",
      "text/plain": [
       "<matplotlib.figure.Figure at 0x7f04c822dac8>"
      ]
     },
     "metadata": {
      "needs_background": "light"
     },
     "output_type": "display_data"
    }
   ],
   "source": [
    "#Convert Runtime to Catogrical data\n",
    "movie['runtime30'] = movie['runtime'].apply(lambda x : (x//30)*30)\n",
    "movie.groupby('runtime30')['popularity'].mean().plot(kind='bar',figsize = (15,5));\n",
    "                                            \n",
    "#setup the title of the figure\n",
    "plt.title(\"Runtime Vs Popularity\",fontsize = 14)\n",
    "\n",
    "#setup the x-label and y-label of the plot.\n",
    "plt.xlabel('Runtime',fontsize = 13)\n",
    "plt.ylabel('Average Popularity',fontsize = 13);"
   ]
  },
  {
   "cell_type": "markdown",
   "metadata": {},
   "source": [
    "I used Bar Gragh to Show which lenght People like more\n",
    "\n",
    "Looks that 2 hours 30 min has The Highest Popularity"
   ]
  },
  {
   "cell_type": "markdown",
   "metadata": {},
   "source": [
    "## What Kinds of Properties are Associated with Movies that have High Revenue?"
   ]
  },
  {
   "cell_type": "code",
   "execution_count": 26,
   "metadata": {
    "scrolled": true
   },
   "outputs": [
    {
     "data": {
      "text/html": [
       "<div>\n",
       "<style scoped>\n",
       "    .dataframe tbody tr th:only-of-type {\n",
       "        vertical-align: middle;\n",
       "    }\n",
       "\n",
       "    .dataframe tbody tr th {\n",
       "        vertical-align: top;\n",
       "    }\n",
       "\n",
       "    .dataframe thead th {\n",
       "        text-align: right;\n",
       "    }\n",
       "</style>\n",
       "<table border=\"1\" class=\"dataframe\">\n",
       "  <thead>\n",
       "    <tr style=\"text-align: right;\">\n",
       "      <th></th>\n",
       "      <th>original_title</th>\n",
       "      <th>popularity</th>\n",
       "      <th>budget</th>\n",
       "      <th>revenue</th>\n",
       "      <th>runtime</th>\n",
       "      <th>genres</th>\n",
       "      <th>vote_count</th>\n",
       "      <th>vote_average</th>\n",
       "      <th>profit</th>\n",
       "      <th>production_companies</th>\n",
       "    </tr>\n",
       "  </thead>\n",
       "  <tbody>\n",
       "    <tr>\n",
       "      <th>1386</th>\n",
       "      <td>Avatar</td>\n",
       "      <td>9.432768</td>\n",
       "      <td>237000000</td>\n",
       "      <td>2781505847</td>\n",
       "      <td>162</td>\n",
       "      <td>Action|Adventure|Fantasy|Science Fiction</td>\n",
       "      <td>8458</td>\n",
       "      <td>7.1</td>\n",
       "      <td>2544505847</td>\n",
       "      <td>Ingenious Film Partners|Twentieth Century Fox ...</td>\n",
       "    </tr>\n",
       "    <tr>\n",
       "      <th>3</th>\n",
       "      <td>Star Wars: The Force Awakens</td>\n",
       "      <td>11.173104</td>\n",
       "      <td>200000000</td>\n",
       "      <td>2068178225</td>\n",
       "      <td>136</td>\n",
       "      <td>Action|Adventure|Science Fiction|Fantasy</td>\n",
       "      <td>5292</td>\n",
       "      <td>7.5</td>\n",
       "      <td>1868178225</td>\n",
       "      <td>Lucasfilm|Truenorth Productions|Bad Robot</td>\n",
       "    </tr>\n",
       "    <tr>\n",
       "      <th>0</th>\n",
       "      <td>Jurassic World</td>\n",
       "      <td>32.985763</td>\n",
       "      <td>150000000</td>\n",
       "      <td>1513528810</td>\n",
       "      <td>124</td>\n",
       "      <td>Action|Adventure|Science Fiction|Thriller</td>\n",
       "      <td>5562</td>\n",
       "      <td>6.5</td>\n",
       "      <td>1363528810</td>\n",
       "      <td>Universal Studios|Amblin Entertainment|Legenda...</td>\n",
       "    </tr>\n",
       "    <tr>\n",
       "      <th>4</th>\n",
       "      <td>Furious 7</td>\n",
       "      <td>9.335014</td>\n",
       "      <td>190000000</td>\n",
       "      <td>1506249360</td>\n",
       "      <td>137</td>\n",
       "      <td>Action|Crime|Thriller</td>\n",
       "      <td>2947</td>\n",
       "      <td>7.3</td>\n",
       "      <td>1316249360</td>\n",
       "      <td>Universal Pictures|Original Film|Media Rights ...</td>\n",
       "    </tr>\n",
       "    <tr>\n",
       "      <th>14</th>\n",
       "      <td>Avengers: Age of Ultron</td>\n",
       "      <td>5.944927</td>\n",
       "      <td>280000000</td>\n",
       "      <td>1405035767</td>\n",
       "      <td>141</td>\n",
       "      <td>Action|Adventure|Science Fiction</td>\n",
       "      <td>4304</td>\n",
       "      <td>7.4</td>\n",
       "      <td>1125035767</td>\n",
       "      <td>Marvel Studios|Prime Focus|Revolution Sun Studios</td>\n",
       "    </tr>\n",
       "    <tr>\n",
       "      <th>3374</th>\n",
       "      <td>Harry Potter and the Deathly Hallows: Part 2</td>\n",
       "      <td>5.711315</td>\n",
       "      <td>125000000</td>\n",
       "      <td>1327817822</td>\n",
       "      <td>130</td>\n",
       "      <td>Adventure|Family|Fantasy</td>\n",
       "      <td>3750</td>\n",
       "      <td>7.7</td>\n",
       "      <td>1202817822</td>\n",
       "      <td>Warner Bros.|Heyday Films|Moving Picture Compa...</td>\n",
       "    </tr>\n",
       "    <tr>\n",
       "      <th>5425</th>\n",
       "      <td>Iron Man 3</td>\n",
       "      <td>4.946136</td>\n",
       "      <td>200000000</td>\n",
       "      <td>1215439994</td>\n",
       "      <td>130</td>\n",
       "      <td>Action|Adventure|Science Fiction</td>\n",
       "      <td>6882</td>\n",
       "      <td>6.9</td>\n",
       "      <td>1015439994</td>\n",
       "      <td>Marvel Studios</td>\n",
       "    </tr>\n",
       "    <tr>\n",
       "      <th>8</th>\n",
       "      <td>Minions</td>\n",
       "      <td>7.404165</td>\n",
       "      <td>74000000</td>\n",
       "      <td>1156730962</td>\n",
       "      <td>91</td>\n",
       "      <td>Family|Animation|Adventure|Comedy</td>\n",
       "      <td>2893</td>\n",
       "      <td>6.5</td>\n",
       "      <td>1082730962</td>\n",
       "      <td>Universal Pictures|Illumination Entertainment</td>\n",
       "    </tr>\n",
       "    <tr>\n",
       "      <th>4365</th>\n",
       "      <td>Skyfall</td>\n",
       "      <td>5.603587</td>\n",
       "      <td>200000000</td>\n",
       "      <td>1108561013</td>\n",
       "      <td>143</td>\n",
       "      <td>Action|Adventure|Thriller</td>\n",
       "      <td>6137</td>\n",
       "      <td>6.8</td>\n",
       "      <td>908561013</td>\n",
       "      <td>Columbia Pictures</td>\n",
       "    </tr>\n",
       "    <tr>\n",
       "      <th>8094</th>\n",
       "      <td>The Net</td>\n",
       "      <td>1.136610</td>\n",
       "      <td>22000000</td>\n",
       "      <td>1106279658</td>\n",
       "      <td>114</td>\n",
       "      <td>Crime|Drama|Mystery|Thriller|Action</td>\n",
       "      <td>201</td>\n",
       "      <td>5.6</td>\n",
       "      <td>1084279658</td>\n",
       "      <td>Columbia Pictures</td>\n",
       "    </tr>\n",
       "  </tbody>\n",
       "</table>\n",
       "</div>"
      ],
      "text/plain": [
       "                                    original_title  popularity     budget  \\\n",
       "1386                                        Avatar    9.432768  237000000   \n",
       "3                     Star Wars: The Force Awakens   11.173104  200000000   \n",
       "0                                   Jurassic World   32.985763  150000000   \n",
       "4                                        Furious 7    9.335014  190000000   \n",
       "14                         Avengers: Age of Ultron    5.944927  280000000   \n",
       "3374  Harry Potter and the Deathly Hallows: Part 2    5.711315  125000000   \n",
       "5425                                    Iron Man 3    4.946136  200000000   \n",
       "8                                          Minions    7.404165   74000000   \n",
       "4365                                       Skyfall    5.603587  200000000   \n",
       "8094                                       The Net    1.136610   22000000   \n",
       "\n",
       "         revenue  runtime                                     genres  \\\n",
       "1386  2781505847      162   Action|Adventure|Fantasy|Science Fiction   \n",
       "3     2068178225      136   Action|Adventure|Science Fiction|Fantasy   \n",
       "0     1513528810      124  Action|Adventure|Science Fiction|Thriller   \n",
       "4     1506249360      137                      Action|Crime|Thriller   \n",
       "14    1405035767      141           Action|Adventure|Science Fiction   \n",
       "3374  1327817822      130                   Adventure|Family|Fantasy   \n",
       "5425  1215439994      130           Action|Adventure|Science Fiction   \n",
       "8     1156730962       91          Family|Animation|Adventure|Comedy   \n",
       "4365  1108561013      143                  Action|Adventure|Thriller   \n",
       "8094  1106279658      114        Crime|Drama|Mystery|Thriller|Action   \n",
       "\n",
       "      vote_count  vote_average      profit  \\\n",
       "1386        8458           7.1  2544505847   \n",
       "3           5292           7.5  1868178225   \n",
       "0           5562           6.5  1363528810   \n",
       "4           2947           7.3  1316249360   \n",
       "14          4304           7.4  1125035767   \n",
       "3374        3750           7.7  1202817822   \n",
       "5425        6882           6.9  1015439994   \n",
       "8           2893           6.5  1082730962   \n",
       "4365        6137           6.8   908561013   \n",
       "8094         201           5.6  1084279658   \n",
       "\n",
       "                                   production_companies  \n",
       "1386  Ingenious Film Partners|Twentieth Century Fox ...  \n",
       "3             Lucasfilm|Truenorth Productions|Bad Robot  \n",
       "0     Universal Studios|Amblin Entertainment|Legenda...  \n",
       "4     Universal Pictures|Original Film|Media Rights ...  \n",
       "14    Marvel Studios|Prime Focus|Revolution Sun Studios  \n",
       "3374  Warner Bros.|Heyday Films|Moving Picture Compa...  \n",
       "5425                                     Marvel Studios  \n",
       "8         Universal Pictures|Illumination Entertainment  \n",
       "4365                                  Columbia Pictures  \n",
       "8094                                  Columbia Pictures  "
      ]
     },
     "execution_count": 26,
     "metadata": {},
     "output_type": "execute_result"
    }
   ],
   "source": [
    "#Get the attributes by sorting descending\n",
    "# make a mask by query() to remove budget and revenue that have bad values\n",
    "movie_attributes = movie[['original_title', 'popularity', 'budget', 'revenue', 'runtime', 'genres', 'vote_count', 'vote_average', 'profit', 'production_companies']].query('revenue > 1000 and budget > 1000').sort_values(by='revenue', ascending=False)\n",
    "movie_attributes.head(10)"
   ]
  },
  {
   "cell_type": "code",
   "execution_count": 27,
   "metadata": {
    "scrolled": false
   },
   "outputs": [
    {
     "data": {
      "text/html": [
       "<div>\n",
       "<style scoped>\n",
       "    .dataframe tbody tr th:only-of-type {\n",
       "        vertical-align: middle;\n",
       "    }\n",
       "\n",
       "    .dataframe tbody tr th {\n",
       "        vertical-align: top;\n",
       "    }\n",
       "\n",
       "    .dataframe thead th {\n",
       "        text-align: right;\n",
       "    }\n",
       "</style>\n",
       "<table border=\"1\" class=\"dataframe\">\n",
       "  <thead>\n",
       "    <tr style=\"text-align: right;\">\n",
       "      <th></th>\n",
       "      <th>popularity</th>\n",
       "      <th>budget</th>\n",
       "      <th>revenue</th>\n",
       "      <th>runtime</th>\n",
       "      <th>vote_count</th>\n",
       "      <th>vote_average</th>\n",
       "      <th>profit</th>\n",
       "    </tr>\n",
       "  </thead>\n",
       "  <tbody>\n",
       "    <tr>\n",
       "      <th>count</th>\n",
       "      <td>50.000000</td>\n",
       "      <td>5.000000e+01</td>\n",
       "      <td>5.000000e+01</td>\n",
       "      <td>50.000000</td>\n",
       "      <td>50.000000</td>\n",
       "      <td>50.000000</td>\n",
       "      <td>5.000000e+01</td>\n",
       "    </tr>\n",
       "    <tr>\n",
       "      <th>mean</th>\n",
       "      <td>5.748100</td>\n",
       "      <td>1.663500e+08</td>\n",
       "      <td>1.020095e+09</td>\n",
       "      <td>131.040000</td>\n",
       "      <td>3708.120000</td>\n",
       "      <td>6.928000</td>\n",
       "      <td>8.537453e+08</td>\n",
       "    </tr>\n",
       "    <tr>\n",
       "      <th>std</th>\n",
       "      <td>4.886586</td>\n",
       "      <td>7.777901e+07</td>\n",
       "      <td>3.486615e+08</td>\n",
       "      <td>23.434633</td>\n",
       "      <td>1927.203691</td>\n",
       "      <td>0.664567</td>\n",
       "      <td>3.385840e+08</td>\n",
       "    </tr>\n",
       "    <tr>\n",
       "      <th>min</th>\n",
       "      <td>0.813323</td>\n",
       "      <td>1.050000e+07</td>\n",
       "      <td>7.582399e+08</td>\n",
       "      <td>88.000000</td>\n",
       "      <td>201.000000</td>\n",
       "      <td>5.600000</td>\n",
       "      <td>5.696536e+08</td>\n",
       "    </tr>\n",
       "    <tr>\n",
       "      <th>25%</th>\n",
       "      <td>3.181535</td>\n",
       "      <td>1.162500e+08</td>\n",
       "      <td>8.390788e+08</td>\n",
       "      <td>115.000000</td>\n",
       "      <td>2757.000000</td>\n",
       "      <td>6.400000</td>\n",
       "      <td>6.830212e+08</td>\n",
       "    </tr>\n",
       "    <tr>\n",
       "      <th>50%</th>\n",
       "      <td>4.859375</td>\n",
       "      <td>1.725000e+08</td>\n",
       "      <td>9.291384e+08</td>\n",
       "      <td>136.000000</td>\n",
       "      <td>3200.500000</td>\n",
       "      <td>7.000000</td>\n",
       "      <td>7.702324e+08</td>\n",
       "    </tr>\n",
       "    <tr>\n",
       "      <th>75%</th>\n",
       "      <td>6.295174</td>\n",
       "      <td>2.000000e+08</td>\n",
       "      <td>1.053746e+09</td>\n",
       "      <td>148.750000</td>\n",
       "      <td>4268.000000</td>\n",
       "      <td>7.400000</td>\n",
       "      <td>8.616539e+08</td>\n",
       "    </tr>\n",
       "    <tr>\n",
       "      <th>max</th>\n",
       "      <td>32.985763</td>\n",
       "      <td>3.800000e+08</td>\n",
       "      <td>2.781506e+09</td>\n",
       "      <td>169.000000</td>\n",
       "      <td>9767.000000</td>\n",
       "      <td>8.100000</td>\n",
       "      <td>2.544506e+09</td>\n",
       "    </tr>\n",
       "  </tbody>\n",
       "</table>\n",
       "</div>"
      ],
      "text/plain": [
       "       popularity        budget       revenue     runtime   vote_count  \\\n",
       "count   50.000000  5.000000e+01  5.000000e+01   50.000000    50.000000   \n",
       "mean     5.748100  1.663500e+08  1.020095e+09  131.040000  3708.120000   \n",
       "std      4.886586  7.777901e+07  3.486615e+08   23.434633  1927.203691   \n",
       "min      0.813323  1.050000e+07  7.582399e+08   88.000000   201.000000   \n",
       "25%      3.181535  1.162500e+08  8.390788e+08  115.000000  2757.000000   \n",
       "50%      4.859375  1.725000e+08  9.291384e+08  136.000000  3200.500000   \n",
       "75%      6.295174  2.000000e+08  1.053746e+09  148.750000  4268.000000   \n",
       "max     32.985763  3.800000e+08  2.781506e+09  169.000000  9767.000000   \n",
       "\n",
       "       vote_average        profit  \n",
       "count     50.000000  5.000000e+01  \n",
       "mean       6.928000  8.537453e+08  \n",
       "std        0.664567  3.385840e+08  \n",
       "min        5.600000  5.696536e+08  \n",
       "25%        6.400000  6.830212e+08  \n",
       "50%        7.000000  7.702324e+08  \n",
       "75%        7.400000  8.616539e+08  \n",
       "max        8.100000  2.544506e+09  "
      ]
     },
     "execution_count": 27,
     "metadata": {},
     "output_type": "execute_result"
    }
   ],
   "source": [
    "movie_attributes.head(50).describe()"
   ]
  },
  {
   "cell_type": "markdown",
   "metadata": {},
   "source": [
    "I see here that Top high Revenue Movies have High Profit, Budget and Popularity and Most of their Rating near The Mean = 7 according to Low Standard Deviation "
   ]
  },
  {
   "cell_type": "markdown",
   "metadata": {},
   "source": [
    "## How Does The Revenue And Popularity affects Budget ?"
   ]
  },
  {
   "cell_type": "markdown",
   "metadata": {},
   "source": [
    "https://www.geeksforgeeks.org/python-pandas-dataframe-corr/"
   ]
  },
  {
   "cell_type": "code",
   "execution_count": 28,
   "metadata": {
    "scrolled": true
   },
   "outputs": [
    {
     "name": "stdout",
     "output_type": "stream",
     "text": [
      "Correlation Between Revenue And Budget :  0.735415010119\n"
     ]
    },
    {
     "data": {
      "image/png": "[encoded data removed]",
      "text/plain": [
       "<matplotlib.figure.Figure at 0x7f04c8a3d240>"
      ]
     },
     "metadata": {
      "needs_background": "light"
     },
     "output_type": "display_data"
    }
   ],
   "source": [
    "ax = movie.plot(x='revenue', y='budget', kind='scatter', figsize=(15,5))\n",
    "#set the title and labels of the figure\n",
    "ax.set_title(\"Revenue Vs Budget\",fontsize=13)\n",
    "ax.set_xlabel(\"Revenue\",fontsize=12)\n",
    "ax.set_ylabel(\"Budget\",fontsize=12);\n",
    "#to get the correlation value\n",
    "data_corr = movie.corr()\n",
    "print(\"Correlation Between Revenue And Budget : \",data_corr.loc['revenue','budget'])"
   ]
  },
  {
   "cell_type": "code",
   "execution_count": 29,
   "metadata": {
    "scrolled": true
   },
   "outputs": [
    {
     "name": "stdout",
     "output_type": "stream",
     "text": [
      "Correlation Between Popularity And Profit :  0.523060008157\n"
     ]
    },
    {
     "data": {
      "image/png": "[encoded data removed]",
      "text/plain": [
       "<matplotlib.figure.Figure at 0x7f04c7a186a0>"
      ]
     },
     "metadata": {
      "needs_background": "light"
     },
     "output_type": "display_data"
    }
   ],
   "source": [
    "ax = movie.plot(x='popularity', y='profit', kind='scatter', figsize=(15,5))\n",
    "#set the title and labels of the figure\n",
    "ax.set_title(\"Popularity Vs Profit\",fontsize=13)\n",
    "ax.set_xlabel(\"Popularity\",fontsize=12)\n",
    "ax.set_ylabel(\"Profit\",fontsize=12);\n",
    "data_corr = movie.corr()\n",
    "print(\"Correlation Between Popularity And Profit : \",data_corr.loc['popularity','budget'])"
   ]
  },
  {
   "cell_type": "markdown",
   "metadata": {},
   "source": [
    "I chose Scatter here to show the relationship between Revenue vs Budget and Popularity vs Profit \n",
    "\n",
    "1. Budget vs Revenue : Budget and revenue both have positive correlation(0.73) between them. \n",
    "   - Means there is a good possibility that movies with higher investments result in better revenues.\n",
    "\n",
    "\n",
    "2. Popularity Vs Profit : Popularity and profit have positive correlation(0.55). \n",
    "   - It means that movie with high popularity tends to earn high profit."
   ]
  },
  {
   "cell_type": "markdown",
   "metadata": {},
   "source": [
    "<a id='conclusions'></a>\n",
    "## Conclusions\n",
    "\n",
    "> **Tip**: Finally, summarize your findings and the results that have been performed. Make sure that you are clear with regards to the limitations of your exploration. If you haven't done any statistical tests, do not imply any statistical conclusions. And make sure you avoid implying causation from correlation!\n",
    "\n",
    "> **Tip**: Once you are satisfied with your work here, check over your report to make sure that it is satisfies all the areas of the rubric (found on the project submission page at the end of the lesson). You should also probably remove all of the \"Tips\" like this one so that the presentation is as polished as possible.\n",
    "\n"
   ]
  },
  {
   "cell_type": "markdown",
   "metadata": {},
   "source": [
    "\n",
    " - Drama is the most popular genre.\n",
    " - Drame, Comedy, Thriller and Action are four most-made genres.\n",
    " - 'Avatar', 'Star Wars' and 'Titanic' are the most profitable movies.\n",
    " - The Runtime 2 hours 30 min is more popular than long duration movies.\n",
    " - Warner Bros, Universal Pictures and Paramount Pictures production companies earn more life time profit than other production companies.\n",
    " - Means there is a good possibility that movies with higher investments result in better revenues.\n",
    " - Means that movie with high popularity tends to earn high profit."
   ]
  },
  {
   "cell_type": "markdown",
   "metadata": {},
   "source": [
    "### Limitations\n",
    "\n",
    "- It's not 100 percent guaranteed solution that this formula is gonna work, But it shows us that we have high probability of making high profits if we had similar characteristics as such. \n",
    "    If we release a movie with these characteristics, it gives people high expectations for this movie. This was just one example of an influantial factor that would lead to different results, there are many that have to be taken care of.\n",
    "- This Dataset only has data from 1966 to 2015 which Means that maybe alot of things changed after those years"
   ]
  },
  {
   "cell_type": "markdown",
   "metadata": {},
   "source": [
    "## Submitting your Project \n",
    "\n",
    "> Before you submit your project, you need to create a .html or .pdf version of this notebook in the workspace here. To do that, run the code cell below. If it worked correctly, you should get a return code of 0, and you should see the generated .html file in the workspace directory (click on the orange Jupyter icon in the upper left).\n",
    "\n",
    "> Alternatively, you can download this report as .html via the **File** > **Download as** submenu, and then manually upload it into the workspace directory by clicking on the orange Jupyter icon in the upper left, then using the Upload button.\n",
    "\n",
    "> Once you've done this, you can submit your project by clicking on the \"Submit Project\" button in the lower right here. This will create and submit a zip file with this .ipynb doc and the .html or .pdf version you created. Congratulations!"
   ]
  },
  {
   "cell_type": "code",
   "execution_count": 30,
   "metadata": {},
   "outputs": [
    {
     "data": {
      "text/plain": [
       "0"
      ]
     },
     "execution_count": 30,
     "metadata": {},
     "output_type": "execute_result"
    }
   ],
   "source": [
    "from subprocess import call\n",
    "call(['python', '-m', 'nbconvert', 'Investigate_a_Dataset.ipynb'])"
   ]
  },
  {
   "cell_type": "code",
   "execution_count": null,
   "metadata": {},
   "outputs": [],
   "source": []
  }
 ],
 "metadata": {
  "kernelspec": {
   "display_name": "Python 3",
   "language": "python",
   "name": "python3"
  },
  "language_info": {
   "codemirror_mode": {
    "name": "ipython",
    "version": 3
   },
   "file_extension": ".py",
   "mimetype": "text/x-python",
   "name": "python",
   "nbconvert_exporter": "python",
   "pygments_lexer": "ipython3",
   "version": "3.6.3"
  }
 },
 "nbformat": 4,
 "nbformat_minor": 2
}
